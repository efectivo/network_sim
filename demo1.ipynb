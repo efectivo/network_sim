{
 "cells": [
  {
   "cell_type": "markdown",
   "metadata": {},
   "source": [
    "## Empirical comparison of static routing algorithms\n",
    "### Usage example: Odd-even and greedy comparison (line network)"
   ]
  },
  {
   "cell_type": "markdown",
   "metadata": {},
   "source": [
    "#### Installation:\n",
    "1. Clone repo: git clone https://github.com/efectivo/network_sim\n",
    "2. Install anaconda: https://www.continuum.io/downloads\n",
    "3. cd network_sim\n",
    "4. Run this code"
   ]
  },
  {
   "cell_type": "code",
   "execution_count": 1,
   "metadata": {
    "collapsed": true
   },
   "outputs": [],
   "source": [
    "# Import necessary modules.\n",
    "from units import environment, tested_unit, patterns, packet, test_reporter\n",
    "from protocols import greedy, down_hill, forwarding_protocol, forwarding_buffer\n",
    "import networkx as nx\n",
    "import random\n",
    "import sys\n",
    "import logging\n",
    "import matplotlib.pyplot as plt\n",
    "%matplotlib inline"
   ]
  },
  {
   "cell_type": "code",
   "execution_count": 9,
   "metadata": {
    "collapsed": false
   },
   "outputs": [
    {
     "name": "stdout",
     "output_type": "stream",
     "text": [
      "http://networkx.readthedocs.io/en/networkx-1.10/\n",
      "The nodes:\n",
      "[0, 1, 2, 3, 4]\n",
      "\n",
      "The edges (direct graph):\n",
      "[(0, 1), (1, 2), (2, 3), (3, 4)]\n",
      "\n",
      "Graph algorithms (in this case all shortest paths):\n",
      "{0: {0: [0], 1: [0, 1], 2: [0, 1, 2], 3: [0, 1, 2, 3], 4: [0, 1, 2, 3, 4]}, 1: {1: [1], 2: [1, 2], 3: [1, 2, 3], 4: [1, 2, 3, 4]}, 2: {2: [2], 3: [2, 3], 4: [2, 3, 4]}, 3: {3: [3], 4: [3, 4]}, 4: {4: [4]}}\n",
      "\n",
      "Drawing the network:\n",
      "\n"
     ]
    },
    {
     "data": {
      "image/png": "[encoded data removed]",
      "text/plain": [
       "<matplotlib.figure.Figure at 0xc87a3c8>"
      ]
     },
     "metadata": {},
     "output_type": "display_data"
    }
   ],
   "source": [
    "# Define the network - in this case a directed line\n",
    "# We use Networkx library. It contains many helpful functions:\n",
    "print 'http://networkx.readthedocs.io/en/networkx-1.10/'\n",
    "N = 5\n",
    "net = nx.DiGraph()\n",
    "for i in xrange(N-1):\n",
    "    net.add_edge(i, i+1)\n",
    "\n",
    "print 'The node names:'\n",
    "print net.nodes()\n",
    "print \n",
    "print 'The edges (direct graph):'\n",
    "print net.edges()\n",
    "print \n",
    "print 'Graph algorithms (in this case all shortest paths):'\n",
    "print nx.shortest_path(net)\n",
    "print \n",
    "print 'Drawing the network:'\n",
    "nx.draw(net)\n",
    "print "
   ]
  },
  {
   "cell_type": "code",
   "execution_count": 3,
   "metadata": {
    "collapsed": true
   },
   "outputs": [],
   "source": [
    "# Create adversary, injection patterns by implementing the pattern interface\n",
    "class line_random_src_random_dst_pattern(patterns.PatternIfc):\n",
    "    def __init__(self, net, node_num):\n",
    "        patterns.PatternIfc.__init__(self, net)\n",
    "        self.node_num = node_num\n",
    "\n",
    "    def invoke(self, curr_cycle):\n",
    "        # Randomize source and destination nodes.\n",
    "        src = random.randrange(self.node_num)\n",
    "        dst = random.randrange(self.node_num)\n",
    "        \n",
    "        # If the least is empty, no packets will be injected on this cycle\n",
    "        if src == dst:\n",
    "            return []\n",
    "        \n",
    "        src, dst = min(src, dst), max(src, dst)\n",
    "        route = range(src, dst+1)\n",
    "        # Return a list of packets. In this case only one. \n",
    "        # The packet is defined by its route (which contains the src and dst nodes)\n",
    "        return [packet.Packet('RSRD', route, curr_cycle)]"
   ]
  },
  {
   "cell_type": "code",
   "execution_count": 4,
   "metadata": {
    "collapsed": true
   },
   "outputs": [],
   "source": [
    "# Now the setup is almost ready, let's create a setup object:\n",
    "cycle_number = 1000\n",
    "pattern = line_random_src_random_dst_pattern(net, N)\n",
    "# The setup may contain multiple injection patterns\n",
    "setup = environment.EnvironmentSetup(net, [pattern], cycle_number=cycle_number, log_level=logging.INFO)"
   ]
  },
  {
   "cell_type": "code",
   "execution_count": 5,
   "metadata": {
    "collapsed": false
   },
   "outputs": [],
   "source": [
    "# Here we show an example of creating a simple forwarding protocol.\n",
    "# Some protocols are already defined in the protocols folder. \n",
    "class GreedyProtocol(forwarding_protocol.ForwardingProtocol):\n",
    "    # Note that the argument is the buffer type (LIS by default). \n",
    "    # The simulation holds a copy of the entire network buffers for each tested protocol.\n",
    "    def __init__(self, buffer_type=forwarding_buffer.LongestInSystem):\n",
    "        forwarding_protocol.ForwardingProtocol.__init__(self, buffer_type)\n",
    "\n",
    "    # Here is were nodes communicate with one another. \n",
    "    # The results of this step are stored in dictionary called to_send in order to keep the buffers \n",
    "    # constant throughout the communication step.\n",
    "    def run_communication_step(self):\n",
    "        self.to_send = {}\n",
    "        for node in self.nodes.itervalues():\n",
    "            self._run_communication_step_per_node(node)\n",
    "\n",
    "    def _run_communication_step_per_node(self, node):\n",
    "        for parent in node.parents:\n",
    "            buf = parent.buffers[node.name]\n",
    "            buf_size = len(buf)\n",
    "            if buf_size == 0:\n",
    "                continue\n",
    "            send_count = min(buf_size, node.edge_capacity_per_parent[parent.name])\n",
    "            self.to_send[parent, node.name] = send_count\n",
    "\n",
    "    # Here is were the protcol extract packets from a node buffers and pass it the next node\n",
    "    def run_forwarding_step(self):\n",
    "        for (node, next_node_name), buf_len in self.to_send.iteritems():\n",
    "            node.send(next_node_name, buf_len)"
   ]
  },
  {
   "cell_type": "code",
   "execution_count": 6,
   "metadata": {
    "collapsed": false
   },
   "outputs": [],
   "source": [
    "# Let define two tested protocols, one is the above greedy and the odd even\n",
    "test1 = tested_unit.Test('greedy', GreedyProtocol(), reporter=test_reporter.TestResultsHistory('demo1_greedy_history.h5'))\n",
    "test2 = tested_unit.Test('downhill', down_hill.DownHillProtocol(use_odd_even=True))\n",
    "tests = [test1, test2]"
   ]
  },
  {
   "cell_type": "code",
   "execution_count": 7,
   "metadata": {
    "collapsed": false
   },
   "outputs": [
    {
     "name": "stderr",
     "output_type": "stream",
     "text": [
      "INFO:greedy_results:Total sent: 794\n",
      "INFO:greedy_results:Total recv: 794\n",
      "INFO:greedy_results:Average packet delay: 0.243073047859\n",
      "INFO:greedy_results:Max packet delay: 2\n",
      "INFO:greedy_results:Max buffer size: 3\n",
      "INFO:greedy_results:Max delay factor: 3.0\n",
      "INFO:greedy_results:Average delay factor: 1.12308673469\n",
      "INFO:downhill_results:Total sent: 794\n",
      "INFO:downhill_results:Total recv: 794\n",
      "INFO:downhill_results:Average packet delay: 0.278337531486\n",
      "INFO:downhill_results:Max packet delay: 4\n",
      "INFO:downhill_results:Max buffer size: 2\n",
      "INFO:downhill_results:Max delay factor: 4.0\n",
      "INFO:downhill_results:Average delay factor: 1.14094387755\n"
     ]
    }
   ],
   "source": [
    "# In INFO log level, the results will be printed to the screen\n",
    "env = environment.Environment(setup, tests)\n",
    "env.run()"
   ]
  },
  {
   "cell_type": "code",
   "execution_count": 8,
   "metadata": {
    "collapsed": false
   },
   "outputs": [
    {
     "name": "stdout",
     "output_type": "stream",
     "text": [
      "3\n"
     ]
    }
   ],
   "source": [
    "# The results can be access using the reporter object\n",
    "print test1.reporter.max_buffer_size"
   ]
  }
 ],
 "metadata": {
  "anaconda-cloud": {},
  "kernelspec": {
   "display_name": "Python [default]",
   "language": "python",
   "name": "python2"
  },
  "language_info": {
   "codemirror_mode": {
    "name": "ipython",
    "version": 2
   },
   "file_extension": ".py",
   "mimetype": "text/x-python",
   "name": "python",
   "nbconvert_exporter": "python",
   "pygments_lexer": "ipython2",
   "version": "2.7.12"
  }
 },
 "nbformat": 4,
 "nbformat_minor": 1
}
